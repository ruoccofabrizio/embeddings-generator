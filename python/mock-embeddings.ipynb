{
 "cells": [
  {
   "cell_type": "code",
   "execution_count": null,
   "metadata": {},
   "outputs": [],
   "source": [
    "import numpy as np\n",
    "\n",
    "# set the random seed for reproducibility\n",
    "np.random.seed(123)\n",
    "\n",
    "# generate an array of 100 random numbers between -1 and 1\n",
    "arr = np.random.uniform(-1, 1, size=1536)\n",
    "\n",
    "# reshape the 1D array to a 2D array with one row and 100 columns\n",
    "arr = arr.reshape(1, 1536)\n",
    "\n",
    "# print the array in the specified format\n",
    "print('[{}]'.format(', '.join(str(x) for x in arr[0])))\n"
   ]
  }
 ],
 "metadata": {
  "kernelspec": {
   "display_name": "Python 3",
   "language": "python",
   "name": "python3"
  },
  "language_info": {
   "codemirror_mode": {
    "name": "ipython",
    "version": 3
   },
   "file_extension": ".py",
   "mimetype": "text/x-python",
   "name": "python",
   "nbconvert_exporter": "python",
   "pygments_lexer": "ipython3",
   "version": "3.9.12"
  },
  "orig_nbformat": 4,
  "vscode": {
   "interpreter": {
    "hash": "cb03a14a37979806ce23e33360b17165bb15ff625b551094b9c9803860d0df63"
   }
  }
 },
 "nbformat": 4,
 "nbformat_minor": 2
}
